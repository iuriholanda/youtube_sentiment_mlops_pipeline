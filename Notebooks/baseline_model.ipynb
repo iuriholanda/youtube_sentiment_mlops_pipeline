{
 "cells": [
  {
   "cell_type": "code",
   "execution_count": null,
   "id": "0e4fb0c1",
   "metadata": {},
   "outputs": [],
   "source": [
    "! pip install mlflow"
   ]
  },
  {
   "cell_type": "code",
   "execution_count": 2,
   "id": "edd48c2d",
   "metadata": {},
   "outputs": [
    {
     "name": "stdout",
     "output_type": "stream",
     "text": [
      "🏃 View run luminous-rat-979 at: http://ec2-18-218-26-180.us-east-2.compute.amazonaws.com:5000/#/experiments/0/runs/a95f092c48a54d1b949b502f864b41eb\n",
      "🧪 View experiment at: http://ec2-18-218-26-180.us-east-2.compute.amazonaws.com:5000/#/experiments/0\n"
     ]
    }
   ],
   "source": [
    "import mlflow\n",
    "\n",
    "# testing to see if mlflow is working correctly\n",
    "\n",
    "mlflow.set_tracking_uri(\"http://ec2-18-218-26-180.us-east-2.compute.amazonaws.com:5000/\")\n",
    "\n",
    "with mlflow.start_run():\n",
    "    mlflow.log_param(\"parameter1\", 15)\n",
    "    mlflow.log_metric(\"metric1\", 0.89)"
   ]
  },
  {
   "cell_type": "code",
   "execution_count": 3,
   "id": "3fce6b92",
   "metadata": {},
   "outputs": [],
   "source": [
    "# imports\n",
    "\n",
    "import pandas as pd\n",
    "import numpy as np\n",
    "import mlflow.sklearn\n",
    "\n",
    "import matplotlib.pyplot as plt\n",
    "import seaborn as sns\n",
    "\n",
    "from sklearn.ensemble import RandomForestClassifier\n",
    "from sklearn.feature_extraction.text import CountVectorizer\n",
    "from sklearn.model_selection import train_test_split, cross_val_predict, StratifiedKFold\n",
    "from sklearn.metrics import accuracy_score, classification_report, confusion_matrix"
   ]
  },
  {
   "cell_type": "code",
   "execution_count": 4,
   "id": "cd22fbbd",
   "metadata": {},
   "outputs": [
    {
     "data": {
      "text/html": [
       "<div>\n",
       "<style scoped>\n",
       "    .dataframe tbody tr th:only-of-type {\n",
       "        vertical-align: middle;\n",
       "    }\n",
       "\n",
       "    .dataframe tbody tr th {\n",
       "        vertical-align: top;\n",
       "    }\n",
       "\n",
       "    .dataframe thead th {\n",
       "        text-align: right;\n",
       "    }\n",
       "</style>\n",
       "<table border=\"1\" class=\"dataframe\">\n",
       "  <thead>\n",
       "    <tr style=\"text-align: right;\">\n",
       "      <th></th>\n",
       "      <th>clean_comment</th>\n",
       "      <th>category</th>\n",
       "      <th>words</th>\n",
       "      <th>stop_words</th>\n",
       "      <th>characters</th>\n",
       "      <th>punctuation_chars</th>\n",
       "    </tr>\n",
       "  </thead>\n",
       "  <tbody>\n",
       "    <tr>\n",
       "      <th>0</th>\n",
       "      <td>family mormon never tried explain still stare ...</td>\n",
       "      <td>1</td>\n",
       "      <td>39</td>\n",
       "      <td>13</td>\n",
       "      <td>259</td>\n",
       "      <td>0</td>\n",
       "    </tr>\n",
       "    <tr>\n",
       "      <th>1</th>\n",
       "      <td>buddhism much lot compatible christianity espe...</td>\n",
       "      <td>1</td>\n",
       "      <td>196</td>\n",
       "      <td>59</td>\n",
       "      <td>1268</td>\n",
       "      <td>0</td>\n",
       "    </tr>\n",
       "    <tr>\n",
       "      <th>2</th>\n",
       "      <td>seriously say thing first get complex explain ...</td>\n",
       "      <td>-1</td>\n",
       "      <td>86</td>\n",
       "      <td>40</td>\n",
       "      <td>459</td>\n",
       "      <td>0</td>\n",
       "    </tr>\n",
       "    <tr>\n",
       "      <th>3</th>\n",
       "      <td>learned want teach different focus goal not wr...</td>\n",
       "      <td>0</td>\n",
       "      <td>29</td>\n",
       "      <td>15</td>\n",
       "      <td>167</td>\n",
       "      <td>0</td>\n",
       "    </tr>\n",
       "    <tr>\n",
       "      <th>4</th>\n",
       "      <td>benefit may want read living buddha living chr...</td>\n",
       "      <td>1</td>\n",
       "      <td>112</td>\n",
       "      <td>45</td>\n",
       "      <td>690</td>\n",
       "      <td>0</td>\n",
       "    </tr>\n",
       "  </tbody>\n",
       "</table>\n",
       "</div>"
      ],
      "text/plain": [
       "                                       clean_comment  category  words  \\\n",
       "0  family mormon never tried explain still stare ...         1     39   \n",
       "1  buddhism much lot compatible christianity espe...         1    196   \n",
       "2  seriously say thing first get complex explain ...        -1     86   \n",
       "3  learned want teach different focus goal not wr...         0     29   \n",
       "4  benefit may want read living buddha living chr...         1    112   \n",
       "\n",
       "   stop_words  characters  punctuation_chars  \n",
       "0          13         259                  0  \n",
       "1          59        1268                  0  \n",
       "2          40         459                  0  \n",
       "3          15         167                  0  \n",
       "4          45         690                  0  "
      ]
     },
     "execution_count": 4,
     "metadata": {},
     "output_type": "execute_result"
    }
   ],
   "source": [
    "df = pd.read_csv(\"reddit_preprocessed.csv\")\n",
    "df.head()"
   ]
  },
  {
   "cell_type": "markdown",
   "id": "8ba59d76",
   "metadata": {},
   "source": [
    "#### Bag of Words"
   ]
  },
  {
   "cell_type": "code",
   "execution_count": 5,
   "id": "bc6de01c",
   "metadata": {},
   "outputs": [],
   "source": [
    "vectorizer = CountVectorizer(max_features=10000) # limit of 10k features"
   ]
  },
  {
   "cell_type": "code",
   "execution_count": 6,
   "id": "590f2bbf",
   "metadata": {},
   "outputs": [],
   "source": [
    "embedding = vectorizer.fit_transform(df['clean_comment']).toarray()"
   ]
  },
  {
   "cell_type": "code",
   "execution_count": 7,
   "id": "935d8dac",
   "metadata": {},
   "outputs": [],
   "source": [
    "y = df['category'].values"
   ]
  },
  {
   "cell_type": "code",
   "execution_count": 8,
   "id": "3e73e63d",
   "metadata": {},
   "outputs": [
    {
     "data": {
      "text/plain": [
       "((36484, 10000), (36484,))"
      ]
     },
     "execution_count": 8,
     "metadata": {},
     "output_type": "execute_result"
    }
   ],
   "source": [
    "embedding.shape , y.shape"
   ]
  },
  {
   "cell_type": "code",
   "execution_count": 9,
   "id": "66acdb72",
   "metadata": {},
   "outputs": [
    {
     "name": "stderr",
     "output_type": "stream",
     "text": [
      "2025/08/26 13:42:41 INFO mlflow.tracking.fluent: Experiment with name 'Baseline' does not exist. Creating a new experiment.\n"
     ]
    },
    {
     "data": {
      "text/plain": [
       "<Experiment: artifact_location='s3://mlflow-bucket-078/848580663716478603', creation_time=1756226558851, experiment_id='848580663716478603', last_update_time=1756226558851, lifecycle_stage='active', name='Baseline', tags={}>"
      ]
     },
     "execution_count": 9,
     "metadata": {},
     "output_type": "execute_result"
    }
   ],
   "source": [
    "mlflow.set_experiment('Baseline')"
   ]
  },
  {
   "cell_type": "code",
   "execution_count": null,
   "id": "ab4f88fc",
   "metadata": {},
   "outputs": [],
   "source": [
    "! pip install boto3 awscli"
   ]
  },
  {
   "cell_type": "code",
   "execution_count": 14,
   "id": "761d4240",
   "metadata": {},
   "outputs": [
    {
     "name": "stderr",
     "output_type": "stream",
     "text": [
      "2025/08/26 14:45:44 WARNING mlflow.models.model: `artifact_path` is deprecated. Please use `name` instead.\n",
      "2025/08/26 14:47:03 WARNING mlflow.models.model: Model logged without a signature and input example. Please set `input_example` parameter when logging the model to auto infer the model signature.\n"
     ]
    },
    {
     "name": "stdout",
     "output_type": "stream",
     "text": [
      "🏃 View run RandomForest_baseline at: http://ec2-18-218-26-180.us-east-2.compute.amazonaws.com:5000/#/experiments/848580663716478603/runs/ca1e7ac809bc4340a09d9c30bd341364\n",
      "🧪 View experiment at: http://ec2-18-218-26-180.us-east-2.compute.amazonaws.com:5000/#/experiments/848580663716478603\n",
      "Accuracy = 0.6473893380841441\n"
     ]
    },
    {
     "data": {
      "image/png": "[encoded data removed]",
      "text/plain": [
       "<Figure size 800x600 with 2 Axes>"
      ]
     },
     "metadata": {},
     "output_type": "display_data"
    }
   ],
   "source": [
    "X_train, X_test, y_train, y_test = train_test_split(embedding, y, test_size=.2, random_state=0, stratify=y) # train-test split holdout validation\n",
    "\n",
    "with mlflow.start_run() as run:\n",
    "    # Experiments tags\n",
    "    mlflow.set_tag(\"mlflow.runName\", \"RandomForest_baseline\")\n",
    "    mlflow.set_tag(\"experiment_type\", \"baseline\")\n",
    "    mlflow.set_tag(\"model_type\", \"RandomForestClassifier\")\n",
    "    mlflow.set_tag(\"Description\", \"Baseline model using a random forest classifier approach and a Bag of Words embedding technique\")\n",
    "\n",
    "    # parameters for vectorizer and model\n",
    "    mlflow.log_param(\"vectorizer_type\", \"CountVectorizer\")\n",
    "    mlflow.log_param(\"vectorizer_maxfeatures\", vectorizer.max_features)\n",
    "\n",
    "    mlflow.log_param(\"n_estimators\", 200)\n",
    "    mlflow.log_param(\"max_depth\", 15)\n",
    "\n",
    "    baseline_model = RandomForestClassifier(n_estimators=200, max_depth=15, random_state=0)\n",
    "    baseline_model.fit(X_train, y_train)\n",
    "    predictions = baseline_model.predict(X_test)\n",
    "\n",
    "    baseline_accuracy = accuracy_score(y_test, predictions)\n",
    "\n",
    "    mlflow.log_metric(\"accuracy\", baseline_accuracy)\n",
    "\n",
    "    classification_rep = classification_report(y_test, predictions, output_dict=True)\n",
    "\n",
    "    for label, metrics in classification_rep.items():\n",
    "        if isinstance(metrics, dict):  # For precision, recall, f1-score, etc.\n",
    "            for metric, value in metrics.items():\n",
    "                mlflow.log_metric(f\"{label}_{metric}\", value)\n",
    "\n",
    "    class_names = [-1,0,1]\n",
    "\n",
    "    # Confusion matrix plot\n",
    "    conf_matrix = confusion_matrix(y_test, predictions)\n",
    "    plt.figure(figsize=(8, 6))\n",
    "    sns.heatmap(conf_matrix, annot=True, fmt=\"d\", cmap=\"Blues\", xticklabels=class_names, yticklabels=class_names)\n",
    "    plt.xlabel(\"Predicted\")\n",
    "    plt.ylabel(\"Actual\")\n",
    "    plt.title(\"Confusion Matrix\")\n",
    "\n",
    "    # Save and log the confusion matrix plot\n",
    "    plt.savefig(\"confusion_matrix.png\")\n",
    "    mlflow.log_artifact(\"confusion_matrix.png\")\n",
    "\n",
    "    mlflow.sklearn.log_model(baseline_model, \"random_forest_baseline\")\n",
    "\n",
    "print(f'Accuracy = {baseline_accuracy}')\n",
    "\n"
   ]
  },
  {
   "cell_type": "code",
   "execution_count": 17,
   "id": "ec721ff0",
   "metadata": {},
   "outputs": [
    {
     "name": "stdout",
     "output_type": "stream",
     "text": [
      "              precision    recall  f1-score   support\n",
      "\n",
      "          -1       1.00      0.01      0.02      1646\n",
      "           0       0.69      0.79      0.74      2506\n",
      "           1       0.62      0.87      0.72      3145\n",
      "\n",
      "    accuracy                           0.65      7297\n",
      "   macro avg       0.77      0.56      0.49      7297\n",
      "weighted avg       0.73      0.65      0.57      7297\n",
      "\n"
     ]
    }
   ],
   "source": [
    "print(classification_report(y_test, predictions))"
   ]
  }
 ],
 "metadata": {
  "kernelspec": {
   "display_name": "myvenv",
   "language": "python",
   "name": "python3"
  },
  "language_info": {
   "codemirror_mode": {
    "name": "ipython",
    "version": 3
   },
   "file_extension": ".py",
   "mimetype": "text/x-python",
   "name": "python",
   "nbconvert_exporter": "python",
   "pygments_lexer": "ipython3",
   "version": "3.11.9"
  }
 },
 "nbformat": 4,
 "nbformat_minor": 5
}
